{
 "cells": [
  {
   "cell_type": "code",
   "execution_count": 1,
   "id": "d8612c68-8726-4966-bdfc-20a533e5ab87",
   "metadata": {},
   "outputs": [
    {
     "ename": "NameError",
     "evalue": "name 'os' is not defined",
     "output_type": "error",
     "traceback": [
      "\u001b[1;31m---------------------------------------------------------------------------\u001b[0m",
      "\u001b[1;31mNameError\u001b[0m                                 Traceback (most recent call last)",
      "Cell \u001b[1;32mIn[1], line 62\u001b[0m\n\u001b[0;32m     60\u001b[0m csv_file_path_minmax_nasdaq \u001b[38;5;241m=\u001b[39m \u001b[38;5;124m\"\u001b[39m\u001b[38;5;124m../data/min_max_scaling/cleaned_minmax_scaled_combined_data_nasdaq.csv\u001b[39m\u001b[38;5;124m\"\u001b[39m\n\u001b[0;32m     61\u001b[0m output_directory_minmax_nasdaq \u001b[38;5;241m=\u001b[39m \u001b[38;5;124m\"\u001b[39m\u001b[38;5;124m../data/data_split/min_max_nasdaq\u001b[39m\u001b[38;5;124m\"\u001b[39m\n\u001b[1;32m---> 62\u001b[0m \u001b[43msplit_and_visualize_dataset\u001b[49m\u001b[43m(\u001b[49m\u001b[43mcsv_file_path_minmax_nasdaq\u001b[49m\u001b[43m,\u001b[49m\u001b[43m \u001b[49m\u001b[43moutput_directory_minmax_nasdaq\u001b[49m\u001b[43m)\u001b[49m\n\u001b[0;32m     64\u001b[0m \u001b[38;5;66;03m# split the minmax sp500 data\u001b[39;00m\n\u001b[0;32m     65\u001b[0m csv_file_path_minmax_sp500 \u001b[38;5;241m=\u001b[39m \u001b[38;5;124m\"\u001b[39m\u001b[38;5;124m../data/min_max_scaling/cleaned_minmax_scaled_combined_data_sp500.csv\u001b[39m\u001b[38;5;124m\"\u001b[39m\n",
      "Cell \u001b[1;32mIn[1], line 21\u001b[0m, in \u001b[0;36msplit_and_visualize_dataset\u001b[1;34m(file_path, output_dir)\u001b[0m\n\u001b[0;32m     18\u001b[0m data \u001b[38;5;241m=\u001b[39m pd\u001b[38;5;241m.\u001b[39mread_csv(file_path)\n\u001b[0;32m     20\u001b[0m \u001b[38;5;66;03m# Ensure the output directory exists\u001b[39;00m\n\u001b[1;32m---> 21\u001b[0m \u001b[43mos\u001b[49m\u001b[38;5;241m.\u001b[39mmakedirs(output_dir, exist_ok\u001b[38;5;241m=\u001b[39m\u001b[38;5;28;01mTrue\u001b[39;00m)\n\u001b[0;32m     23\u001b[0m \u001b[38;5;66;03m# Separate features and target variable\u001b[39;00m\n\u001b[0;32m     24\u001b[0m X \u001b[38;5;241m=\u001b[39m data\u001b[38;5;241m.\u001b[39mdrop(columns\u001b[38;5;241m=\u001b[39m[\u001b[38;5;124m\"\u001b[39m\u001b[38;5;124mMarket_Label\u001b[39m\u001b[38;5;124m\"\u001b[39m, \u001b[38;5;124m\"\u001b[39m\u001b[38;5;124mDate\u001b[39m\u001b[38;5;124m\"\u001b[39m])\n",
      "\u001b[1;31mNameError\u001b[0m: name 'os' is not defined"
     ]
    }
   ],
   "source": [
    "import pandas as pd\n",
    "from sklearn.model_selection import train_test_split\n",
    "import matplotlib.pyplot as plt\n",
    "import os\n",
    "\n",
    "def split_and_visualize_dataset(file_path, output_dir):\n",
    "    \"\"\"\n",
    "    Splits the dataset into training, validation, and test sets,\n",
    "    and saves a visualization of the split sizes.\n",
    "\n",
    "    Parameters:\n",
    "    - file_path: str, path to the CSV file.\n",
    "    - output_dir: str, directory where the visualization will be saved.\n",
    "\n",
    "    Returns:\n",
    "    - None, but saves the visualization as a PNG file in the specified directory.\n",
    "    \"\"\"\n",
    "    # Load the dataset\n",
    "    data = pd.read_csv(file_path)\n",
    "\n",
    "    # Ensure the output directory exists\n",
    "    os.makedirs(output_dir, exist_ok=True)\n",
    "\n",
    "    # Separate features and target variable\n",
    "    X = data.drop(columns=[\"Market_Label\", \"Date\"])\n",
    "    y = data[\"Market_Label\"]\n",
    "\n",
    "    # First, split into training (70%) and temp (30% for validation and test)\n",
    "    X_train, X_temp, y_train, y_temp = train_test_split(\n",
    "        X, y, test_size=0.3, stratify=y, random_state=42\n",
    "    )\n",
    "\n",
    "    # Split the temp set further into validation (15%) and test (15%)\n",
    "    X_val, X_test, y_val, y_test = train_test_split(\n",
    "        X_temp, y_temp, test_size=0.5, stratify=y_temp, random_state=42\n",
    "    )\n",
    "\n",
    "    # Visualize the split sizes\n",
    "    split_sizes = [len(X_train), len(X_val), len(X_test)]\n",
    "    labels = ['Training Set', 'Validation Set', 'Test Set']\n",
    "\n",
    "    plt.figure(figsize=(8, 5))\n",
    "    plt.bar(labels, split_sizes, color=['blue', 'orange', 'green'])\n",
    "    plt.title('Dataset Split Visualization', fontsize=14)\n",
    "    plt.ylabel('Number of Entries', fontsize=12)\n",
    "    plt.xlabel('Dataset Splits', fontsize=12)\n",
    "    plt.xticks(fontsize=10)\n",
    "    plt.yticks(fontsize=10)\n",
    "    plt.grid(axis='y', linestyle='--', alpha=0.7)\n",
    "\n",
    "    # Save the plot\n",
    "    output_file = os.path.join(output_dir, \"dataset_split_visualization.png\")\n",
    "    plt.savefig(output_file)\n",
    "    plt.close()\n",
    "\n",
    "    print(f\"Visualization saved to {output_file}\")\n",
    "    # Return the splits\n",
    "    return X_train, X_val, X_test, y_train, y_val, y_test\n",
    "\n",
    "# split the minmax nasdaq data\n",
    "csv_file_path_minmax_nasdaq = \"../data/min_max_scaling/cleaned_minmax_scaled_combined_data_nasdaq.csv\"\n",
    "output_directory_minmax_nasdaq = \"../data/data_split/min_max_nasdaq\"\n",
    "split_and_visualize_dataset(csv_file_path_minmax_nasdaq, output_directory_minmax_nasdaq)\n",
    "\n",
    "# split the minmax sp500 data\n",
    "csv_file_path_minmax_sp500 = \"../data/min_max_scaling/cleaned_minmax_scaled_combined_data_sp500.csv\"\n",
    "output_directory_minmax_sp500 = \"../data/data_split/min_max_sp500\"\n",
    "split_and_visualize_dataset(csv_file_path_minmax_sp500, output_directory_minmax_sp500)"
   ]
  },
  {
   "cell_type": "code",
   "execution_count": null,
   "id": "90df3842-0842-4190-8e15-699f7bb776c4",
   "metadata": {},
   "outputs": [],
   "source": []
  }
 ],
 "metadata": {
  "kernelspec": {
   "display_name": "Python 3 (ipykernel)",
   "language": "python",
   "name": "python3"
  },
  "language_info": {
   "codemirror_mode": {
    "name": "ipython",
    "version": 3
   },
   "file_extension": ".py",
   "mimetype": "text/x-python",
   "name": "python",
   "nbconvert_exporter": "python",
   "pygments_lexer": "ipython3",
   "version": "3.9.21"
  }
 },
 "nbformat": 4,
 "nbformat_minor": 5
}
