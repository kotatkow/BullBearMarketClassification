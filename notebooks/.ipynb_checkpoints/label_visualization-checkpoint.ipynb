{
 "cells": [
  {
   "cell_type": "code",
   "execution_count": null,
   "id": "c3b14a7d-7890-47dc-b3ff-065573c18202",
   "metadata": {},
   "outputs": [],
   "source": [
    "import pandas as pd\n",
    "\n",
    "# Load the datasets\n",
    "qqq_file_path = '../data/processed/labeled_qqq.csv'\n",
    "sp500_file_path = '../data/processed/labeled_sp500.csv'\n",
    "\n",
    "qqq_data = pd.read_csv(qqq_file_path)\n",
    "sp500_data = pd.read_csv(sp500_file_path)\n",
    "\n",
    "# Display the first few rows of both datasets to understand their structure\n",
    "qqq_data.head(), sp500_data.head()\n"
   ]
  }
 ],
 "metadata": {
  "kernelspec": {
   "display_name": "Python 3 (ipykernel)",
   "language": "python",
   "name": "python3"
  },
  "language_info": {
   "codemirror_mode": {
    "name": "ipython",
    "version": 3
   },
   "file_extension": ".py",
   "mimetype": "text/x-python",
   "name": "python",
   "nbconvert_exporter": "python",
   "pygments_lexer": "ipython3",
   "version": "3.9.21"
  }
 },
 "nbformat": 4,
 "nbformat_minor": 5
}
