{
 "cells": [
  {
   "cell_type": "code",
   "execution_count": null,
   "id": "c3b14a7d-7890-47dc-b3ff-065573c18202",
   "metadata": {},
   "outputs": [],
   "source": [
    "import pandas as pd\n",
    "import os\n",
    "\n",
    "# Load the datasets\n",
    "qqq_file_path = '../data/processed/labeled_qqq.csv'\n",
    "sp500_file_path = '../data/processed/labeled_sp500.csv'\n",
    "\n",
    "qqq_data = pd.read_csv(qqq_file_path)\n",
    "sp500_data = pd.read_csv(sp500_file_path)\n",
    "\n",
    "# Display the first few rows of both datasets to understand their structure\n",
    "qqq_data.head(), sp500_data.head()\n",
    "\n",
    "import matplotlib.pyplot as plt\n",
    "\n",
    "# Convert 'Date' column to datetime for better visualization\n",
    "qqq_data['Date'] = pd.to_datetime(qqq_data['Date'])\n",
    "sp500_data['Date'] = pd.to_datetime(sp500_data['Date'])\n",
    "\n",
    "# Visualize the Market_Label distribution over time for both datasets\n",
    "fig, axes = plt.subplots(2, 1, figsize=(12, 8), sharex=True)\n",
    "\n",
    "# Plot QQQ\n",
    "axes[0].scatter(qqq_data['Date'], qqq_data['Market_Label'], c=qqq_data['Market_Label'], cmap='bwr', alpha=0.6)\n",
    "axes[0].set_title(\"QQQ Market Labels Over Time\")\n",
    "axes[0].set_ylabel(\"Market Label\")\n",
    "axes[0].grid()\n",
    "\n",
    "# Plot S&P 500\n",
    "axes[1].scatter(sp500_data['Date'], sp500_data['Market_Label'], c=sp500_data['Market_Label'], cmap='bwr', alpha=0.6)\n",
    "axes[1].set_title(\"S&P 500 Market Labels Over Time\")\n",
    "axes[1].set_ylabel(\"Market Label\")\n",
    "axes[1].set_xlabel(\"Date\")\n",
    "axes[1].grid()\n",
    "\n",
    "plt.tight_layout()\n",
    "output_dir = '../data/processed'\n",
    "png_file_path = os.path.join(output_dir, 'labeling visualization.png')\n",
    "plt.savefig(png_file_path)\n",
    "plt.show()\n"
   ]
  },
  {
   "cell_type": "code",
   "execution_count": null,
   "id": "a905acc6-4ba2-488a-ab33-9af50f4167ec",
   "metadata": {},
   "outputs": [],
   "source": []
  }
 ],
 "metadata": {
  "kernelspec": {
   "display_name": "Python 3 (ipykernel)",
   "language": "python",
   "name": "python3"
  },
  "language_info": {
   "codemirror_mode": {
    "name": "ipython",
    "version": 3
   },
   "file_extension": ".py",
   "mimetype": "text/x-python",
   "name": "python",
   "nbconvert_exporter": "python",
   "pygments_lexer": "ipython3",
   "version": "3.9.21"
  }
 },
 "nbformat": 4,
 "nbformat_minor": 5
}
