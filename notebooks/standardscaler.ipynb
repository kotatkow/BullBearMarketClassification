{
 "cells": [
  {
   "cell_type": "code",
   "execution_count": 6,
   "id": "671f7e17-63e2-49ee-85ed-e03afd3488cf",
   "metadata": {},
   "outputs": [
    {
     "name": "stdout",
     "output_type": "stream",
     "text": [
      "<class 'pandas.core.frame.DataFrame'>\n",
      "RangeIndex: 8032 entries, 0 to 8031\n",
      "Data columns (total 13 columns):\n",
      " #   Column             Non-Null Count  Dtype  \n",
      "---  ------             --------------  -----  \n",
      " 0   Date               8032 non-null   object \n",
      " 1   Close              8032 non-null   float64\n",
      " 2   High               8032 non-null   float64\n",
      " 3   Low                8032 non-null   float64\n",
      " 4   Open               8032 non-null   float64\n",
      " 5   Volume             8032 non-null   int64  \n",
      " 6   Market_Label       8032 non-null   int64  \n",
      " 7   GDP Growth         8032 non-null   float64\n",
      " 8   CPI                8032 non-null   float64\n",
      " 9   Interest Rate      8032 non-null   float64\n",
      " 10  M2 Money Supply    8032 non-null   float64\n",
      " 11  PPI                8032 non-null   float64\n",
      " 12  Unemployment Rate  8032 non-null   float64\n",
      "dtypes: float64(10), int64(2), object(1)\n",
      "memory usage: 815.9+ KB\n",
      "<class 'pandas.core.frame.DataFrame'>\n",
      "RangeIndex: 6490 entries, 0 to 6489\n",
      "Data columns (total 13 columns):\n",
      " #   Column             Non-Null Count  Dtype  \n",
      "---  ------             --------------  -----  \n",
      " 0   Date               6490 non-null   object \n",
      " 1   Close              6490 non-null   float64\n",
      " 2   High               6490 non-null   float64\n",
      " 3   Low                6490 non-null   float64\n",
      " 4   Open               6490 non-null   float64\n",
      " 5   Volume             6490 non-null   int64  \n",
      " 6   Market_Label       6490 non-null   int64  \n",
      " 7   GDP Growth         6490 non-null   float64\n",
      " 8   CPI                6490 non-null   float64\n",
      " 9   Interest Rate      6490 non-null   float64\n",
      " 10  M2 Money Supply    6490 non-null   float64\n",
      " 11  PPI                6490 non-null   float64\n",
      " 12  Unemployment Rate  6490 non-null   float64\n",
      "dtypes: float64(10), int64(2), object(1)\n",
      "memory usage: 659.3+ KB\n"
     ]
    },
    {
     "data": {
      "text/plain": [
       "('../data/standardscaler/normalized_combined_data_sp500.csv',\n",
       " '../data/standardscaler/normalized_combined_data_nasdaq.csv')"
      ]
     },
     "execution_count": 6,
     "metadata": {},
     "output_type": "execute_result"
    }
   ],
   "source": [
    "import pandas as pd\n",
    "\n",
    "# Load the uploaded combined datasets\n",
    "sp500_data_path = '../data/processed/fill_combined_data_sp500.csv'\n",
    "nasdaq_data_path = '../data/processed/fill_combined_data_nasdaq.csv'\n",
    "\n",
    "# Load the datasets to inspect their contents\n",
    "sp500_data = pd.read_csv(sp500_data_path)\n",
    "nasdaq_data = pd.read_csv(nasdaq_data_path)\n",
    "\n",
    "# Display initial info to understand the data structure and missing values\n",
    "sp500_info = sp500_data.info()\n",
    "nasdaq_info = nasdaq_data.info()\n",
    "\n",
    "# Display first few rows to examine the structure\n",
    "sp500_head = sp500_data.head()\n",
    "nasdaq_head = nasdaq_data.head()\n",
    "\n",
    "(sp500_info, sp500_head, nasdaq_info, nasdaq_head)\n",
    "\n",
    "from sklearn.preprocessing import StandardScaler\n",
    "\n",
    "# Function to normalize data using StandardScaler\n",
    "def normalize_data(df, exclude_columns):\n",
    "    scaler = StandardScaler()\n",
    "    \n",
    "    # Separate columns to exclude from scaling (e.g., Date, Market_Label)\n",
    "    scaled_data = df.copy()\n",
    "    cols_to_scale = [col for col in df.columns if col not in exclude_columns]\n",
    "    \n",
    "    # Apply StandardScaler to numerical columns\n",
    "    scaled_data[cols_to_scale] = scaler.fit_transform(df[cols_to_scale])\n",
    "    return scaled_data\n",
    "\n",
    "# Exclude 'Date' and 'Market_Label' from scaling\n",
    "exclude_columns = ['Date', 'Market_Label', 'Close', 'Open', 'High', 'Low', 'Volume']\n",
    "\n",
    "# Apply normalization to the datasets\n",
    "sp500_normalized = normalize_data(sp500_data, exclude_columns)\n",
    "nasdaq_normalized = normalize_data(nasdaq_data, exclude_columns)\n",
    "\n",
    "# Save the normalized datasets\n",
    "sp500_normalized_path = '../data/standardscaler/normalized_combined_data_sp500.csv'\n",
    "nasdaq_normalized_path = '../data/standardscaler/normalized_combined_data_nasdaq.csv'\n",
    "\n",
    "sp500_normalized.to_csv(sp500_normalized_path, index=False)\n",
    "nasdaq_normalized.to_csv(nasdaq_normalized_path, index=False)\n",
    "\n",
    "sp500_normalized_path, nasdaq_normalized_path\n"
   ]
  },
  {
   "cell_type": "code",
   "execution_count": null,
   "id": "c64308d5-df49-4f98-a9c3-6facc152827b",
   "metadata": {},
   "outputs": [],
   "source": []
  }
 ],
 "metadata": {
  "kernelspec": {
   "display_name": "Python 3 (ipykernel)",
   "language": "python",
   "name": "python3"
  },
  "language_info": {
   "codemirror_mode": {
    "name": "ipython",
    "version": 3
   },
   "file_extension": ".py",
   "mimetype": "text/x-python",
   "name": "python",
   "nbconvert_exporter": "python",
   "pygments_lexer": "ipython3",
   "version": "3.9.21"
  }
 },
 "nbformat": 4,
 "nbformat_minor": 5
}
