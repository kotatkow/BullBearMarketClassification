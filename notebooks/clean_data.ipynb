{
 "cells": [
  {
   "cell_type": "code",
   "execution_count": null,
   "id": "5819bd10-5a7b-421d-a3a5-75564c1fde03",
   "metadata": {},
   "outputs": [],
   "source": [
    "import pandas as pd\n",
    "\n",
    "# Load the uploaded combined datasets\n",
    "sp500_data_path = '/mnt/data/combined_data_sp500.csv'\n",
    "nasdaq_data_path = '/mnt/data/combined_data_nasdaq.csv'\n",
    "\n",
    "# Load the datasets to inspect their contents\n",
    "sp500_data = pd.read_csv(sp500_data_path)\n",
    "nasdaq_data = pd.read_csv(nasdaq_data_path)\n",
    "\n",
    "# Display initial info to understand the data structure and missing values\n",
    "sp500_info = sp500_data.info()\n",
    "nasdaq_info = nasdaq_data.info()\n",
    "\n",
    "# Display first few rows to examine the structure\n",
    "sp500_head = sp500_data.head()\n",
    "nasdaq_head = nasdaq_data.head()\n",
    "\n",
    "(sp500_info, sp500_head, nasdaq_info, nasdaq_head)\n"
   ]
  }
 ],
 "metadata": {
  "kernelspec": {
   "display_name": "Python 3 (ipykernel)",
   "language": "python",
   "name": "python3"
  },
  "language_info": {
   "codemirror_mode": {
    "name": "ipython",
    "version": 3
   },
   "file_extension": ".py",
   "mimetype": "text/x-python",
   "name": "python",
   "nbconvert_exporter": "python",
   "pygments_lexer": "ipython3",
   "version": "3.9.21"
  }
 },
 "nbformat": 4,
 "nbformat_minor": 5
}
