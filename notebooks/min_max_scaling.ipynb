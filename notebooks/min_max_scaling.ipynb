{
 "cells": [
  {
   "cell_type": "code",
   "execution_count": 2,
   "id": "5c76d959-f0a0-4702-9057-4fca460c23d8",
   "metadata": {},
   "outputs": [
    {
     "name": "stdout",
     "output_type": "stream",
     "text": [
      "<class 'pandas.core.frame.DataFrame'>\n",
      "RangeIndex: 8032 entries, 0 to 8031\n",
      "Data columns (total 14 columns):\n",
      " #   Column               Non-Null Count  Dtype  \n",
      "---  ------               --------------  -----  \n",
      " 0   Date                 8032 non-null   object \n",
      " 1   Close                8032 non-null   float64\n",
      " 2   High                 8032 non-null   float64\n",
      " 3   Low                  8032 non-null   float64\n",
      " 4   Open                 8032 non-null   float64\n",
      " 5   Volume               8032 non-null   int64  \n",
      " 6   Market_Label         8032 non-null   int64  \n",
      " 7   GDP Growth           8032 non-null   float64\n",
      " 8   CPI                  8032 non-null   float64\n",
      " 9   Interest Rate        8032 non-null   float64\n",
      " 10  M2 Money Supply      8032 non-null   float64\n",
      " 11  PPI                  8032 non-null   float64\n",
      " 12  Unemployment Rate_x  8032 non-null   float64\n",
      " 13  Unemployment Rate_y  8032 non-null   float64\n",
      "dtypes: float64(11), int64(2), object(1)\n",
      "memory usage: 878.6+ KB\n",
      "<class 'pandas.core.frame.DataFrame'>\n",
      "RangeIndex: 8032 entries, 0 to 8031\n",
      "Data columns (total 14 columns):\n",
      " #   Column               Non-Null Count  Dtype  \n",
      "---  ------               --------------  -----  \n",
      " 0   Date                 8032 non-null   object \n",
      " 1   Close                8032 non-null   float64\n",
      " 2   High                 8032 non-null   float64\n",
      " 3   Low                  8032 non-null   float64\n",
      " 4   Open                 8032 non-null   float64\n",
      " 5   Volume               8032 non-null   int64  \n",
      " 6   Market_Label         8032 non-null   int64  \n",
      " 7   GDP Growth           8032 non-null   float64\n",
      " 8   CPI                  8032 non-null   float64\n",
      " 9   Interest Rate        8032 non-null   float64\n",
      " 10  M2 Money Supply      8032 non-null   float64\n",
      " 11  PPI                  8032 non-null   float64\n",
      " 12  Unemployment Rate_x  8032 non-null   float64\n",
      " 13  Unemployment Rate_y  8032 non-null   float64\n",
      "dtypes: float64(11), int64(2), object(1)\n",
      "memory usage: 878.6+ KB\n"
     ]
    },
    {
     "ename": "NameError",
     "evalue": "name 'exclude_columns' is not defined",
     "output_type": "error",
     "traceback": [
      "\u001b[1;31m---------------------------------------------------------------------------\u001b[0m",
      "\u001b[1;31mNameError\u001b[0m                                 Traceback (most recent call last)",
      "Cell \u001b[1;32mIn[2], line 36\u001b[0m\n\u001b[0;32m     33\u001b[0m     \u001b[38;5;28;01mreturn\u001b[39;00m scaled_data\n\u001b[0;32m     35\u001b[0m \u001b[38;5;66;03m# Apply MinMax Scaling to the datasets\u001b[39;00m\n\u001b[1;32m---> 36\u001b[0m sp500_minmax_scaled \u001b[38;5;241m=\u001b[39m minmax_scale_data(sp500_data, \u001b[43mexclude_columns\u001b[49m)\n\u001b[0;32m     37\u001b[0m nasdaq_minmax_scaled \u001b[38;5;241m=\u001b[39m minmax_scale_data(nasdaq_data, exclude_columns)\n\u001b[0;32m     39\u001b[0m \u001b[38;5;66;03m# Save the MinMax scaled datasets\u001b[39;00m\n",
      "\u001b[1;31mNameError\u001b[0m: name 'exclude_columns' is not defined"
     ]
    }
   ],
   "source": [
    "import pandas as pd\n",
    "\n",
    "# Load the uploaded combined datasets\n",
    "sp500_data_path = '../data/processed/fill_combined_data_sp500.csv'\n",
    "nasdaq_data_path = '../data/processed/fill_combined_data_nasdaq.csv'\n",
    "\n",
    "# Load the datasets to inspect their contents\n",
    "sp500_data = pd.read_csv(sp500_data_path)\n",
    "nasdaq_data = pd.read_csv(nasdaq_data_path)\n",
    "\n",
    "# Display initial info to understand the data structure and missing values\n",
    "sp500_info = sp500_data.info()\n",
    "nasdaq_info = nasdaq_data.info()\n",
    "\n",
    "# Display first few rows to examine the structure\n",
    "sp500_head = sp500_data.head()\n",
    "nasdaq_head = nasdaq_data.head()\n",
    "\n",
    "(sp500_info, sp500_head, nasdaq_info, nasdaq_head)\n",
    "\n",
    "from sklearn.preprocessing import MinMaxScaler\n",
    "\n",
    "# Function to scale data using MinMaxScaler\n",
    "def minmax_scale_data(df, exclude_columns):\n",
    "    scaler = MinMaxScaler()\n",
    "    \n",
    "    # Separate columns to exclude from scaling (e.g., Date, Market_Label)\n",
    "    scaled_data = df.copy()\n",
    "    cols_to_scale = [col for col in df.columns if col not in exclude_columns]\n",
    "    \n",
    "    # Apply MinMaxScaler to numerical columns\n",
    "    scaled_data[cols_to_scale] = scaler.fit_transform(df[cols_to_scale])\n",
    "    return scaled_data\n",
    "\n",
    "# Apply MinMax Scaling to the datasets\n",
    "sp500_minmax_scaled = minmax_scale_data(sp500_data, exclude_columns)\n",
    "nasdaq_minmax_scaled = minmax_scale_data(nasdaq_data, exclude_columns)\n",
    "\n",
    "# Save the MinMax scaled datasets\n",
    "sp500_minmax_scaled_path = '../data/min_max_scaling/minmax_scaled_combined_data_sp500.csv'\n",
    "nasdaq_minmax_scaled_path = '../data/standardscaling/minmax_scaled_combined_data_nasdaq.csv'\n",
    "\n",
    "sp500_minmax_scaled.to_csv(sp500_minmax_scaled_path, index=False)\n",
    "nasdaq_minmax_scaled.to_csv(nasdaq_minmax_scaled_path, index=False)\n",
    "\n",
    "sp500_minmax_scaled_path, nasdaq_minmax_scaled_path\n"
   ]
  },
  {
   "cell_type": "code",
   "execution_count": null,
   "id": "8bdb2165-f2c2-43c9-bac3-ed0f7b1d22b8",
   "metadata": {},
   "outputs": [],
   "source": []
  }
 ],
 "metadata": {
  "kernelspec": {
   "display_name": "Python 3 (ipykernel)",
   "language": "python",
   "name": "python3"
  },
  "language_info": {
   "codemirror_mode": {
    "name": "ipython",
    "version": 3
   },
   "file_extension": ".py",
   "mimetype": "text/x-python",
   "name": "python",
   "nbconvert_exporter": "python",
   "pygments_lexer": "ipython3",
   "version": "3.9.21"
  }
 },
 "nbformat": 4,
 "nbformat_minor": 5
}
