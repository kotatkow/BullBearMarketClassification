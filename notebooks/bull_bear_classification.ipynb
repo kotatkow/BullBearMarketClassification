{
 "cells": [
  {
   "cell_type": "code",
   "execution_count": 23,
   "id": "12fd028f-cea4-452b-818f-3b5c527ee412",
   "metadata": {},
   "outputs": [
    {
     "name": "stderr",
     "output_type": "stream",
     "text": [
      "[*********************100%***********************]  1 of 1 completed\n"
     ]
    },
    {
     "name": "stdout",
     "output_type": "stream",
     "text": [
      "S&P 500 data saved successfully.\n"
     ]
    },
    {
     "name": "stderr",
     "output_type": "stream",
     "text": [
      "[*********************100%***********************]  1 of 1 completed\n"
     ]
    },
    {
     "name": "stdout",
     "output_type": "stream",
     "text": [
      "NASDAQ data saved successfully.\n",
      "GDP Growth data saved successfully.\n",
      "Unemployment Rate data saved successfully.\n",
      "CPI data saved successfully.\n",
      "PPI data saved successfully.\n",
      "M2 Money Supply data saved successfully.\n",
      "Interest Rate data saved successfully.\n"
     ]
    }
   ],
   "source": [
    "import yfinance as yf\n",
    "import pandas as pd\n",
    "\n",
    "# Define stock indices to collect\n",
    "indices = {\"S&P 500\": \"SPY\", \"NASDAQ\": \"QQQ\"}\n",
    "\n",
    "# Define time range\n",
    "start_date = \"1900-01-01\"\n",
    "end_date = \"2024-12-31\"\n",
    "\n",
    "# Download and save data\n",
    "for name, ticker in indices.items():\n",
    "    data = yf.download(ticker, start=start_date, end=end_date)\n",
    "    data.to_csv(f\"../data/raw/{name.replace(' ', '_').lower()}.csv\")\n",
    "    print(f\"{name} data saved successfully.\")\n",
    "\n",
    "from fredapi import Fred\n",
    "import pandas as pd\n",
    "\n",
    "fred = Fred(api_key='e916710d165717e6348556cdce8111f3')\n",
    "\n",
    "# Define economic indicators to collect\n",
    "indicators = {\n",
    "    \"GDP Growth\": \"GDP\",\n",
    "    \"Unemployment Rate\": \"UNRATE\",\n",
    "    \"CPI\": \"CPIAUCSL\",\n",
    "    \"PPI\": \"PPIACO\",\n",
    "    \"M2 Money Supply\": \"M2\",\n",
    "    \"Interest Rate\": \"DGS10\"\n",
    "}\n",
    "\n",
    "# Fetch and save data\n",
    "for name, series_id in indicators.items():\n",
    "    data = fred.get_series(series_id)\n",
    "    data = data.reset_index()\n",
    "    data.columns = ['Date', name]\n",
    "    data.to_csv(f\"../data/raw/{name.replace(' ', '_').lower()}.csv\", index=False)\n",
    "    print(f\"{name} data saved successfully.\")\n"
   ]
  },
  {
   "cell_type": "code",
   "execution_count": null,
   "id": "a91f2dfd-c568-432b-9980-e32b0ebf6053",
   "metadata": {},
   "outputs": [],
   "source": []
  }
 ],
 "metadata": {
  "kernelspec": {
   "display_name": "Python 3 (ipykernel)",
   "language": "python",
   "name": "python3"
  },
  "language_info": {
   "codemirror_mode": {
    "name": "ipython",
    "version": 3
   },
   "file_extension": ".py",
   "mimetype": "text/x-python",
   "name": "python",
   "nbconvert_exporter": "python",
   "pygments_lexer": "ipython3",
   "version": "3.9.21"
  }
 },
 "nbformat": 4,
 "nbformat_minor": 5
}
