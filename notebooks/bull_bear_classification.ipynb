{
 "cells": [
  {
   "cell_type": "code",
   "execution_count": 5,
   "id": "12fd028f-cea4-452b-818f-3b5c527ee412",
   "metadata": {},
   "outputs": [
    {
     "name": "stderr",
     "output_type": "stream",
     "text": [
      "[*********************100%***********************]  1 of 1 completed\n"
     ]
    },
    {
     "name": "stdout",
     "output_type": "stream",
     "text": [
      "Price           Close       High        Low       Open   Volume\n",
      "Ticker            SPY        SPY        SPY        SPY      SPY\n",
      "Date                                                           \n",
      "1993-01-29  24.526079  24.543523  24.421416  24.543523  1003200\n",
      "1993-02-01  24.700512  24.700512  24.543517  24.543517   480500\n",
      "1993-02-02  24.752840  24.770284  24.630733  24.683065   201300\n",
      "1993-02-03  25.014503  25.031947  24.770289  24.787733   529400\n",
      "1993-02-04  25.119164  25.171495  24.822618  25.101720   531500\n",
      "1946-01-01        NaN\n",
      "1946-04-01        NaN\n",
      "1946-07-01        NaN\n",
      "1946-10-01        NaN\n",
      "1947-01-01    243.164\n",
      "dtype: float64\n"
     ]
    }
   ],
   "source": [
    "import yfinance as yf\n",
    "import pandas as pd\n",
    "\n",
    "# Download S&P 500 data from 2000 to present\n",
    "sp500 = yf.download(\"SPY\", start=\"1900-01-01\", end=\"2024-12-31\", interval=\"1d\")\n",
    "\n",
    "# Save data to a CSV file\n",
    "sp500.to_csv(\"../data/sp500.csv\")\n",
    "\n",
    "# Check the first few rows\n",
    "print(sp500.head())\n",
    "\n",
    "from fredapi import Fred\n",
    "\n",
    "# Set up FRED API\n",
    "fred = Fred(api_key='e916710d165717e6348556cdce8111f3')\n",
    "\n",
    "# Fetch economic indicators\n",
    "gdp = fred.get_series('GDP')  # Quarterly GDP data\n",
    "cpi = fred.get_series('CPIAUCSL')  # Consumer Price Index\n",
    "unemployment = fred.get_series('UNRATE')  # Unemployment rate\n",
    "\n",
    "# Save data to CSV files\n",
    "gdp.to_csv(\"../data/gdp.csv\")\n",
    "cpi.to_csv(\"../data/cpi.csv\")\n",
    "unemployment.to_csv(\"../data/unemployment.csv\")\n",
    "\n",
    "# Check GDP data\n",
    "print(gdp.head())\n",
    "\n"
   ]
  },
  {
   "cell_type": "code",
   "execution_count": null,
   "id": "a91f2dfd-c568-432b-9980-e32b0ebf6053",
   "metadata": {},
   "outputs": [],
   "source": []
  }
 ],
 "metadata": {
  "kernelspec": {
   "display_name": "Python 3 (ipykernel)",
   "language": "python",
   "name": "python3"
  },
  "language_info": {
   "codemirror_mode": {
    "name": "ipython",
    "version": 3
   },
   "file_extension": ".py",
   "mimetype": "text/x-python",
   "name": "python",
   "nbconvert_exporter": "python",
   "pygments_lexer": "ipython3",
   "version": "3.9.21"
  }
 },
 "nbformat": 4,
 "nbformat_minor": 5
}
